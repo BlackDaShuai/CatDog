{
 "cells": [
  {
   "cell_type": "code",
   "id": "initial_id",
   "metadata": {
    "collapsed": true,
    "ExecuteTime": {
     "end_time": "2024-10-08T11:40:14.835787Z",
     "start_time": "2024-10-08T11:40:14.819207Z"
    }
   },
   "source": [
    "from tempfile import tempdir\n",
    "\n",
    "import torch\n",
    "import torch.nn as nn\n",
    "import torch.optim as optim\n",
    "from torchvision import datasets, transforms, models\n",
    "import numpy as np\n",
    "from torch.utils.data import DataLoader\n",
    "import sys\n",
    "device = torch.device(\"cuda\")"
   ],
   "outputs": [],
   "execution_count": 115
  },
  {
   "metadata": {
    "ExecuteTime": {
     "end_time": "2024-10-08T11:40:14.882588Z",
     "start_time": "2024-10-08T11:40:14.842789Z"
    }
   },
   "cell_type": "code",
   "source": [
    "# 导入图片\n",
    "transform = transforms.Compose([\n",
    "    transforms.Resize((224, 224)),# 随机crop后resize\n",
    "    transforms.RandomRotation(20), # 随机旋转20度\n",
    "    transforms.RandomHorizontalFlip(p=0.5), # 随机水平翻转\n",
    "    transforms.ToTensor(),])\n",
    "\n",
    "root = 'dataset'\n",
    "train_dataset = datasets.ImageFolder(root+'/train', transform=transform)\n",
    "test_dataset = datasets.ImageFolder(root+'/test', transform=transform)\n",
    "\n",
    "size = 64\n",
    "train_loader = torch.utils.data.DataLoader(train_dataset, batch_size=size, shuffle=True, pin_memory=True, num_workers=4)\n",
    "test_loader = torch.utils.data.DataLoader(test_dataset, batch_size=size, shuffle=True, pin_memory=True,num_workers=4)"
   ],
   "id": "305a41948095b4cd",
   "outputs": [],
   "execution_count": 116
  },
  {
   "metadata": {
    "ExecuteTime": {
     "end_time": "2024-10-08T11:40:14.944746Z",
     "start_time": "2024-10-08T11:40:14.930744Z"
    }
   },
   "cell_type": "code",
   "source": [
    "classes = train_dataset.classes\n",
    "class_to_idx = train_dataset.class_to_idx\n",
    "print(class_to_idx)"
   ],
   "id": "cc563e0f2a393c5a",
   "outputs": [
    {
     "name": "stdout",
     "output_type": "stream",
     "text": [
      "{'cat': 0, 'dog': 1}\n"
     ]
    }
   ],
   "execution_count": 117
  },
  {
   "metadata": {
    "ExecuteTime": {
     "end_time": "2024-10-08T11:40:16.854131Z",
     "start_time": "2024-10-08T11:40:14.994278Z"
    }
   },
   "cell_type": "code",
   "source": [
    "# 载入已经训练好的官方模型\n",
    "model = models.vgg16(pretrained=True)\n",
    "model.to(device)\n",
    "print(model)"
   ],
   "id": "4b548302628f919f",
   "outputs": [
    {
     "name": "stdout",
     "output_type": "stream",
     "text": [
      "VGG(\n",
      "  (features): Sequential(\n",
      "    (0): Conv2d(3, 64, kernel_size=(3, 3), stride=(1, 1), padding=(1, 1))\n",
      "    (1): ReLU(inplace=True)\n",
      "    (2): Conv2d(64, 64, kernel_size=(3, 3), stride=(1, 1), padding=(1, 1))\n",
      "    (3): ReLU(inplace=True)\n",
      "    (4): MaxPool2d(kernel_size=2, stride=2, padding=0, dilation=1, ceil_mode=False)\n",
      "    (5): Conv2d(64, 128, kernel_size=(3, 3), stride=(1, 1), padding=(1, 1))\n",
      "    (6): ReLU(inplace=True)\n",
      "    (7): Conv2d(128, 128, kernel_size=(3, 3), stride=(1, 1), padding=(1, 1))\n",
      "    (8): ReLU(inplace=True)\n",
      "    (9): MaxPool2d(kernel_size=2, stride=2, padding=0, dilation=1, ceil_mode=False)\n",
      "    (10): Conv2d(128, 256, kernel_size=(3, 3), stride=(1, 1), padding=(1, 1))\n",
      "    (11): ReLU(inplace=True)\n",
      "    (12): Conv2d(256, 256, kernel_size=(3, 3), stride=(1, 1), padding=(1, 1))\n",
      "    (13): ReLU(inplace=True)\n",
      "    (14): Conv2d(256, 256, kernel_size=(3, 3), stride=(1, 1), padding=(1, 1))\n",
      "    (15): ReLU(inplace=True)\n",
      "    (16): MaxPool2d(kernel_size=2, stride=2, padding=0, dilation=1, ceil_mode=False)\n",
      "    (17): Conv2d(256, 512, kernel_size=(3, 3), stride=(1, 1), padding=(1, 1))\n",
      "    (18): ReLU(inplace=True)\n",
      "    (19): Conv2d(512, 512, kernel_size=(3, 3), stride=(1, 1), padding=(1, 1))\n",
      "    (20): ReLU(inplace=True)\n",
      "    (21): Conv2d(512, 512, kernel_size=(3, 3), stride=(1, 1), padding=(1, 1))\n",
      "    (22): ReLU(inplace=True)\n",
      "    (23): MaxPool2d(kernel_size=2, stride=2, padding=0, dilation=1, ceil_mode=False)\n",
      "    (24): Conv2d(512, 512, kernel_size=(3, 3), stride=(1, 1), padding=(1, 1))\n",
      "    (25): ReLU(inplace=True)\n",
      "    (26): Conv2d(512, 512, kernel_size=(3, 3), stride=(1, 1), padding=(1, 1))\n",
      "    (27): ReLU(inplace=True)\n",
      "    (28): Conv2d(512, 512, kernel_size=(3, 3), stride=(1, 1), padding=(1, 1))\n",
      "    (29): ReLU(inplace=True)\n",
      "    (30): MaxPool2d(kernel_size=2, stride=2, padding=0, dilation=1, ceil_mode=False)\n",
      "  )\n",
      "  (avgpool): AdaptiveAvgPool2d(output_size=(7, 7))\n",
      "  (classifier): Sequential(\n",
      "    (0): Linear(in_features=25088, out_features=4096, bias=True)\n",
      "    (1): ReLU(inplace=True)\n",
      "    (2): Dropout(p=0.5, inplace=False)\n",
      "    (3): Linear(in_features=4096, out_features=4096, bias=True)\n",
      "    (4): ReLU(inplace=True)\n",
      "    (5): Dropout(p=0.5, inplace=False)\n",
      "    (6): Linear(in_features=4096, out_features=1000, bias=True)\n",
      "  )\n",
      ")\n"
     ]
    }
   ],
   "execution_count": 118
  },
  {
   "metadata": {
    "ExecuteTime": {
     "end_time": "2024-10-08T11:40:17.025307Z",
     "start_time": "2024-10-08T11:40:16.989204Z"
    }
   },
   "cell_type": "code",
   "source": [
    "# 循环模型所有参数，不计算梯度，不参与梯度更新。（卷积层不参与训练）\n",
    "# for param in model.parameters():\n",
    "#     param.requires_grad = False\n",
    "    \n",
    "# 为什么是25088，\n",
    "# 初始输入：224x224x3\n",
    "# 第一次最大池化后：112x112x64\n",
    "# 第二次最大池化后：56x56x128\n",
    "# 第三次最大池化后：28x28x256\n",
    "# 第四次最大池化后：14x14x512\n",
    "# 第五次最大池化后：7x7x512\n",
    "model.classifier = nn.Sequential(nn.Linear(25088, 100), \n",
    "                                 nn.ReLU(),\n",
    "                                 nn.Dropout(0.5),\n",
    "                                 nn.Linear(100, 2),\n",
    "                                 ).to(device)"
   ],
   "id": "31000f61f8d6fa45",
   "outputs": [],
   "execution_count": 119
  },
  {
   "metadata": {
    "ExecuteTime": {
     "end_time": "2024-10-08T11:40:17.087884Z",
     "start_time": "2024-10-08T11:40:17.074045Z"
    }
   },
   "cell_type": "code",
   "source": [
    "LR = 0.0003\n",
    "entropy_loss = nn.CrossEntropyLoss()\n",
    "entropy_loss.to(device)\n",
    "\n",
    "optimizer = optim.Adam(model.parameters(), lr=LR)"
   ],
   "id": "cede4eb3a788ac6b",
   "outputs": [],
   "execution_count": 120
  },
  {
   "metadata": {
    "ExecuteTime": {
     "end_time": "2024-10-08T11:40:17.150399Z",
     "start_time": "2024-10-08T11:40:17.137621Z"
    }
   },
   "cell_type": "code",
   "source": [
    "def train():\n",
    "    model.train()\n",
    "    for i,data in enumerate(train_loader):\n",
    "        inputs, labels = data\n",
    "        inputs, labels = inputs.to(device), labels.to(device)\n",
    "        outputs = model(inputs)\n",
    "        loss = entropy_loss(outputs, labels)\n",
    "        optimizer.zero_grad()\n",
    "        loss.backward()\n",
    "        optimizer.step()\n",
    "        \n",
    "def test():\n",
    "    model.eval()\n",
    "    correct = 0\n",
    "    for i,data in enumerate(test_loader):\n",
    "        inputs, labels = data\n",
    "        inputs, labels = inputs.to(device), labels.to(device)\n",
    "        outputs = model(inputs)\n",
    "        _, predicted = torch.max(outputs.data, 1)\n",
    "        correct += (predicted == labels).sum()\n",
    "    print(\"TestACC:{0}\".format(correct/len(test_dataset)))\n",
    "    \n",
    "    correct = 0\n",
    "    for i,data in enumerate(train_loader):\n",
    "        inputs, labels = data\n",
    "        inputs, labels = inputs.to(device), labels.to(device)\n",
    "        outputs = model(inputs)\n",
    "        _, predicted = torch.max(outputs.data, 1)\n",
    "        correct += (predicted == labels).sum()\n",
    "    print(\"TrainACC:{0}\".format(correct/len(train_dataset)))\n",
    "        \n",
    "    \n",
    "        "
   ],
   "id": "a4ddba9fa9f20e0f",
   "outputs": [],
   "execution_count": 121
  },
  {
   "metadata": {
    "jupyter": {
     "is_executing": true
    },
    "ExecuteTime": {
     "start_time": "2024-10-08T11:40:17.199640Z"
    }
   },
   "cell_type": "code",
   "source": [
    "for epoch in range(0,6):\n",
    "    print('Epoch {}/{}'.format(epoch,6))\n",
    "    train()\n",
    "    test()\n",
    "    \n",
    "torch.save(model.state_dict(), 'catdog.pth')"
   ],
   "id": "aafae37cd626c70f",
   "outputs": [
    {
     "name": "stdout",
     "output_type": "stream",
     "text": [
      "Epoch 0/6\n"
     ]
    }
   ],
   "execution_count": null
  }
 ],
 "metadata": {
  "kernelspec": {
   "display_name": "Python 3",
   "language": "python",
   "name": "python3"
  },
  "language_info": {
   "codemirror_mode": {
    "name": "ipython",
    "version": 2
   },
   "file_extension": ".py",
   "mimetype": "text/x-python",
   "name": "python",
   "nbconvert_exporter": "python",
   "pygments_lexer": "ipython2",
   "version": "2.7.6"
  }
 },
 "nbformat": 4,
 "nbformat_minor": 5
}
